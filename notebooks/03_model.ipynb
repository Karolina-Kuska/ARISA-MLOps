{
 "cells": [
  {
   "cell_type": "markdown",
   "id": "d8347901",
   "metadata": {},
   "source": [
    "Opis poszczególnych kroków:\n",
    "1. Pobranie danych z Kaggle:\n",
    "    Funkcja download_data() pobiera dane z Kaggle. Jest to pierwsza czynność, którą wykonujemy, aby mieć dane do dalszej obróbki.\n",
    "\n",
    "2. Wczytanie i przetworzenie danych:\n",
    "    Funkcja load_and_preprocess() z pliku train.py wykonuje dwa główne zadania: pobiera dane i przetwarza je (m.in. usuwa kolumny, wypełnia brakujące wartości, tworzy nowe cechy).\n",
    "    Funkcja zwraca dane treningowe (X_train, y_train) oraz listę indeksów kolumn kategorycznych (categorical_indices), które będą wykorzystane podczas treningu modelu.\n",
    "\n",
    "3. Trenowanie modelu:\n",
    "    Funkcja train_model() z pliku train.py wykonuje trenowanie modelu CatBoost z optymalizacją hiperparametrów przy użyciu Optuna. Optuna automatycznie znajduje najlepsze parametry, a następnie model jest trenowany na przygotowanych danych.\n",
    "\n",
    "4. Zapisanie modelu:\n",
    "    Po wytrenowaniu modelu zapisujemy go do pliku results/final_model.cbm przy użyciu metody save_model() dostępnej w obiekcie modelu CatBoost.\n",
    "\n",
    "5. Informacja o zapisanym modelu:\n",
    "    Na końcu wypisujemy informację o tym, że model został zapisany, aby użytkownik wiedział, gdzie może go znaleźć."
   ]
  },
  {
   "cell_type": "markdown",
   "id": "1f44beb5",
   "metadata": {},
   "source": [
    "Dodatkowe uwagi:\n",
    "1. W kodzie używamy funkcji download_data() i preprocess_data() z preproc.py oraz load_and_preprocess() i train_model() z train.py.\n",
    "2. Funkcja train_model() automatycznie przeprowadza optymalizację hiperparametrów, więc nie musisz ręcznie ustawiać parametrów modelu.\n",
    "3. Na końcu zapisujemy model do pliku .cbm oraz wyświetlamy informację o jego zapisaniu."
   ]
  },
  {
   "cell_type": "code",
   "execution_count": null,
   "id": "47b8d304",
   "metadata": {},
   "outputs": [],
   "source": [
    "# Importowanie funkcji z plików preproc.py i train.py\n",
    "from preproc import download_data, preprocess_data\n",
    "from train import load_and_preprocess, train_model\n",
    "\n",
    "# 1. Pobranie danych z Kaggle\n",
    "download_data()\n",
    "\n",
    "# 2. Wczytanie i przetworzenie danych\n",
    "X_train, y_train, categorical_indices = load_and_preprocess()\n",
    "\n",
    "# 3. Trenowanie modelu\n",
    "model = train_model(X_train, y_train, categorical_indices)\n",
    "\n",
    "# 4. Zapisanie wytrenowanego modelu\n",
    "model.save_model(\"results/final_model.cbm\")\n",
    "\n",
    "# 5. (Opcjonalnie) Można wyświetlić informację o zapisaniu modelu\n",
    "print(\"Model został zapisany jako 'results/final_model.cbm'.\")\n"
   ]
  }
 ],
 "metadata": {
  "kernelspec": {
   "display_name": "venv",
   "language": "python",
   "name": "python3"
  },
  "language_info": {
   "codemirror_mode": {
    "name": "ipython",
    "version": 3
   },
   "file_extension": ".py",
   "mimetype": "text/x-python",
   "name": "python",
   "nbconvert_exporter": "python",
   "pygments_lexer": "ipython3",
   "version": "3.13.0"
  }
 },
 "nbformat": 4,
 "nbformat_minor": 5
}
